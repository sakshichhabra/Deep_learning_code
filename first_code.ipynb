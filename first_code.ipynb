{
  "nbformat": 4,
  "nbformat_minor": 0,
  "metadata": {
    "colab": {
      "name": "Untitled0.ipynb",
      "provenance": [],
      "include_colab_link": true
    },
    "kernelspec": {
      "name": "python3",
      "display_name": "Python 3"
    }
  },
  "cells": [
    {
      "cell_type": "markdown",
      "metadata": {
        "id": "view-in-github",
        "colab_type": "text"
      },
      "source": [
        "<a href=\"https://colab.research.google.com/github/sakshichhabra/Deep_learning_code/blob/master/first_code.ipynb\" target=\"_parent\"><img src=\"https://colab.research.google.com/assets/colab-badge.svg\" alt=\"Open In Colab\"/></a>"
      ]
    },
    {
      "cell_type": "code",
      "metadata": {
        "id": "yB0J_ttxTbQ-",
        "colab_type": "code",
        "colab": {},
        "cellView": "both"
      },
      "source": [
        "#@title Working with MNIST data\n",
        "from keras.models import Sequential\n",
        "from keras.layers.convolutional import Convolution2D, MaxPooling2D\n",
        "from keras.layers.core import Activation, Flatten, Dense\n",
        "\n",
        "class LaNet:\n",
        "  def build(width, height, depth, classes, weightsPath=None):\n",
        "    model = Sequential()   #creating a sequential model\n",
        "    #Adding convolutional layer in first set of convolution+relu+pool    \n",
        "    model.add(Convolution2D(20, 5, 5, border_mode=\"same\", \n",
        "                            input_shape=(depth, height, width))\n",
        "    model.add(Activation=(\"relu\"))\n",
        "    model.add(MaxPooling2D(pool_size=(2,2), strides=(2,2)))\n",
        "    \n",
        "    #second set of conv + relu + pool\n",
        "    model.add(Convolution2D(20, 5, 5, border_mode=\"same\"))\n",
        "    model.add(Activation=(\"relu\"))\n",
        "    model.add(MaxPooling2D(pool_size=(2,2), strides=(2,2)))\n",
        "    \n",
        "    #set of FC => relu layers          \n",
        "    model.add(Flatten())\n",
        "    model.add(Dense(500))\n",
        "    model.add(Activation=(\"relu\"))\n",
        "              \n",
        "    #softmax classifier\n",
        "    model.add(Dense(classes)) \n",
        "    model.add(Activation=(\"softmax\"))   \n",
        "              \n",
        "    #if weights path is specified => load the weights\n",
        "    if weightsPath is not None:\n",
        "      model.load_weights(weightsPath)\n",
        "              \n",
        "    return model          \n",
        "              "
      ],
      "execution_count": 0,
      "outputs": []
    },
    {
      "cell_type": "code",
      "metadata": {
        "id": "Y8C5eUJbtwb5",
        "colab_type": "code",
        "colab": {}
      },
      "source": [
        ""
      ],
      "execution_count": 0,
      "outputs": []
    },
    {
      "cell_type": "code",
      "metadata": {
        "id": "Vw4yW6C-vKHP",
        "colab_type": "code",
        "colab": {}
      },
      "source": [
        ""
      ],
      "execution_count": 0,
      "outputs": []
    }
  ]
}